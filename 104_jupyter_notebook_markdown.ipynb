{
 "cells": [
  {
   "cell_type": "markdown",
   "metadata": {},
   "source": [
    "### Aditya\n",
    "- Math graduate\n",
    "- Worked in RBS\n",
    "- Basic python (list, dict, basic)\n",
    "\n",
    "### Krishna\n",
    "- 4-5 trading experience\n",
    "- CA\n",
    "- no knowledge (first timer)\n",
    "\n",
    "### Mayank\n",
    "- Business management course\n",
    "- Basic academic experience\n",
    "- list, dict, tuple, basic\n",
    "\n"
   ]
  },
  {
   "cell_type": "markdown",
   "metadata": {},
   "source": [
    "#### Aditya\n",
    "- Math graduate\n",
    "- Worked in RBS\n",
    "- Basic python (list, dict, basic)\n",
    "\n",
    "# Krishna\n",
    "- 4-5 trading experience\n",
    "- CA\n",
    "- no knowledge (first timer)\n",
    "\n",
    "### Mayank\n",
    "- Business management course\n",
    "- Basic academic experience\n",
    "- list, dict, tuple, basic\n",
    "\n",
    "### Mukesh\n",
    "- Business in stock market\n",
    "- Analysis in stock market\n",
    "- begineer\n"
   ]
  },
  {
   "cell_type": "markdown",
   "metadata": {},
   "source": [
    "#### Aditya\n",
    "- Math graduate\n",
    "- Worked in RBS\n",
    "- Basic python (list, dict, basic)\n",
    "\n",
    "# Krishna\n",
    "- 4-5 trading experience\n",
    "- CA\n",
    "- no knowledge (first timer)\n",
    "\n",
    "### Mayank\n",
    "- Business management course\n",
    "- Basic academic experience\n",
    "- list, dict, tuple, basic\n",
    "\n",
    "### Mukesh\n",
    "- Business in stock market\n",
    "- Analysis in stock market\n",
    "- begineer\n"
   ]
  },
  {
   "cell_type": "markdown",
   "metadata": {},
   "source": [
    "### Mukesh\n",
    "- Business in stock market\n",
    "- Analysis in stock market\n",
    "- begineer\n"
   ]
  },
  {
   "cell_type": "code",
   "execution_count": 3,
   "metadata": {},
   "outputs": [
    {
     "ename": "SyntaxError",
     "evalue": "invalid syntax (<ipython-input-3-961491a19df9>, line 2)",
     "output_type": "error",
     "traceback": [
      "\u001b[1;36m  File \u001b[1;32m\"<ipython-input-3-961491a19df9>\"\u001b[1;36m, line \u001b[1;32m2\u001b[0m\n\u001b[1;33m    - Intermediate knowledge\u001b[0m\n\u001b[1;37m                           ^\u001b[0m\n\u001b[1;31mSyntaxError\u001b[0m\u001b[1;31m:\u001b[0m invalid syntax\n"
     ]
    }
   ],
   "source": [
    "### Prasanna\n",
    "- Intermediate knowledge\n",
    "- basic python\n",
    "- first session in quatitative finance\n",
    "\n",
    "### Puran\n",
    "- Stock market trader\n",
    "- starting in python\n",
    "\n",
    "### Sarika\n",
    "- 3 year of trading experience in derivate\n",
    "- PhD in computer science\n",
    "- Using python for research work\n",
    "- list, dict, tuple, class\n",
    "\n",
    "### Siddarth Rathi\n",
    "- Undergraduate student\n",
    "- BFM\n",
    "- starting in python\n",
    "\n",
    "\n"
   ]
  },
  {
   "cell_type": "markdown",
   "metadata": {},
   "source": [
    "### Sumedh\n",
    "- CA \n",
    "- 3-4 year trading\n",
    "- starting in python\n",
    "\n",
    "### Shekhar\n",
    "- starting in python\n",
    "\n",
    "### Anjan\n",
    "- B.Tech, software \n",
    "- JP Morgan \n",
    "- Statistical techniques\n",
    "- R\n",
    "- New to python"
   ]
  },
  {
   "cell_type": "markdown",
   "metadata": {},
   "source": [
    "## Technology\n",
    "\n",
    "### Start Anaconda\n",
    "- Anaconda installation\n",
    "- Working with Anaconda\n",
    "- Basic features of Jupyter\n",
    "- Jupyter plateform for coding in python\n",
    "\n",
    "\n",
    "### Next\n",
    "- Pycharm\n",
    "- Install pycharm\n",
    "- Understand features of pycharm\n",
    "\n",
    "\n",
    "- Anaconda\n",
    "- Jupyter notebook\n",
    "- Pycharm\n",
    "- Youtube on Jupyter notebook\n",
    "- Install and start using pycharm Youtbe"
   ]
  },
  {
   "cell_type": "code",
   "execution_count": null,
   "metadata": {},
   "outputs": [],
   "source": [
    "#### Aditya\n",
    "- Math graduate\n",
    "- Worked in RBS\n",
    "- Basic python (list, dict, basic)\n",
    "\n",
    "# Krishna\n",
    "- 4-5 trading experience\n",
    "- CA\n",
    "- no knowledge (first timer)\n",
    "\n",
    "### Mayank\n",
    "- Business management course\n",
    "- Basic academic experience\n",
    "- list, dict, tuple, basic\n",
    "\n",
    "### Mukesh\n",
    "- Business in stock market\n",
    "- Analysis in stock market\n",
    "- begineer\n"
   ]
  }
 ],
 "metadata": {
  "kernelspec": {
   "display_name": "Python 3 (ipykernel)",
   "language": "python",
   "name": "python3"
  },
  "language_info": {
   "codemirror_mode": {
    "name": "ipython",
    "version": 3
   },
   "file_extension": ".py",
   "mimetype": "text/x-python",
   "name": "python",
   "nbconvert_exporter": "python",
   "pygments_lexer": "ipython3",
   "version": "3.9.7"
  }
 },
 "nbformat": 4,
 "nbformat_minor": 2
}
