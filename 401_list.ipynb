{
 "cells": [
  {
   "cell_type": "markdown",
   "metadata": {},
   "source": [
    "### Lists Versus Tuples\n",
    "1. You can’t add elements to a tuple. There’s no append() or extend() method for tuples.\n",
    "2. You can’t remove elements from a tuple. Tuples have no remove() or pop() method.\n",
    "3. You can find elements in a tuple since this doesn’t change the tuple.\n",
    "4. You can also use the in operator to check if an element exists in the tuple.\n",
    "\n",
    "### Why and When Tuples use?\n",
    "So, if you’re defining a constant set of values and all you’re going to do with it is iterate through it, use a tuple instead of a list. It will be faster than working with lists and also safer, as the tuples contain “write-protect” data.\n",
    "\n",
    "### Lists Versus Sets\n",
    "1. A list stores an ordered collection of items, so it keeps some order. Dictionaries don’t have any order.\n",
    "2. Dictionaries are known to associate each key with a value, while lists just contain values. \n",
    "\n",
    "### When Dict will use\n",
    "Use a dictionary when you have an unordered set of unique keys that map to values.\n",
    "\n",
    "### Lists Versus Sets\n",
    "1. Just like dictionaries, sets have no order in their collection of items. Not like lists.\n",
    "2. Set requires the items contained in it to be hashable, lists store non-hashable items.\n",
    "3. Sets require your items to be unique and immutable. Duplicates are not allowed in sets, while lists allow for duplicates and are mutable.\n",
    "\n",
    "### When Sets will use\n",
    "1. You should make use of sets when you have an unordered set of unique, immutable values that are hashable.\n"
   ]
  },
  {
   "cell_type": "markdown",
   "metadata": {},
   "source": [
    "![](img/hashable.PNG)"
   ]
  },
  {
   "cell_type": "code",
   "execution_count": 1,
   "metadata": {},
   "outputs": [
    {
     "name": "stdout",
     "output_type": "stream",
     "text": [
      "False\n",
      "True\n"
     ]
    }
   ],
   "source": [
    "# Import the `collections` library\n",
    "import collections\n",
    "\n",
    "# Check if a dictionary is hashable\n",
    "print(isinstance({}, collections.Hashable))\n",
    "\n",
    "# Check if a float is hashable\n",
    "print(isinstance(0.125, collections.Hashable))"
   ]
  },
  {
   "cell_type": "markdown",
   "metadata": {},
   "source": [
    "### How To Select An Element From A List"
   ]
  },
  {
   "cell_type": "code",
   "execution_count": null,
   "metadata": {},
   "outputs": [],
   "source": []
  },
  {
   "cell_type": "code",
   "execution_count": 1,
   "metadata": {},
   "outputs": [],
   "source": [
    "animal = ['bear', 'lion', 'zebra', '3', ['chimpanzees', 'gorillas']]"
   ]
  },
  {
   "cell_type": "code",
   "execution_count": 2,
   "metadata": {},
   "outputs": [
    {
     "data": {
      "text/plain": [
       "['bear', 'lion', 'zebra', '3', ['chimpanzees', 'gorillas']]"
      ]
     },
     "execution_count": 2,
     "metadata": {},
     "output_type": "execute_result"
    }
   ],
   "source": [
    "animal"
   ]
  },
  {
   "cell_type": "code",
   "execution_count": 3,
   "metadata": {},
   "outputs": [
    {
     "data": {
      "text/plain": [
       "list"
      ]
     },
     "execution_count": 3,
     "metadata": {},
     "output_type": "execute_result"
    }
   ],
   "source": [
    "type(animal)"
   ]
  },
  {
   "cell_type": "code",
   "execution_count": null,
   "metadata": {},
   "outputs": [],
   "source": []
  },
  {
   "cell_type": "markdown",
   "metadata": {},
   "source": [
    "### List is a class"
   ]
  },
  {
   "cell_type": "code",
   "execution_count": null,
   "metadata": {},
   "outputs": [],
   "source": [
    "animal is an object of list class with values ['bear', 'lion', 'zebra', '3', ['chimpanzees', 'gorillas']]"
   ]
  },
  {
   "cell_type": "code",
   "execution_count": null,
   "metadata": {},
   "outputs": [],
   "source": []
  },
  {
   "cell_type": "code",
   "execution_count": 6,
   "metadata": {},
   "outputs": [
    {
     "data": {
      "text/plain": [
       "1"
      ]
     },
     "execution_count": 6,
     "metadata": {},
     "output_type": "execute_result"
    }
   ],
   "source": [
    "animal.count('bear')"
   ]
  },
  {
   "cell_type": "code",
   "execution_count": 7,
   "metadata": {},
   "outputs": [],
   "source": [
    "animal.reverse()"
   ]
  },
  {
   "cell_type": "code",
   "execution_count": 8,
   "metadata": {},
   "outputs": [
    {
     "data": {
      "text/plain": [
       "[['chimpanzees', 'gorillas'], '3', 'zebra', 'lion', 'bear']"
      ]
     },
     "execution_count": 8,
     "metadata": {},
     "output_type": "execute_result"
    }
   ],
   "source": [
    "animal"
   ]
  },
  {
   "cell_type": "code",
   "execution_count": 21,
   "metadata": {},
   "outputs": [],
   "source": [
    "asde = 4"
   ]
  },
  {
   "cell_type": "code",
   "execution_count": 22,
   "metadata": {},
   "outputs": [],
   "source": [
    "animal.append(asde)"
   ]
  },
  {
   "cell_type": "code",
   "execution_count": 23,
   "metadata": {},
   "outputs": [
    {
     "data": {
      "text/plain": [
       "[['chimpanzees', 'gorillas'], '3', 'zebra', 'lion', 'bear', 4]"
      ]
     },
     "execution_count": 23,
     "metadata": {},
     "output_type": "execute_result"
    }
   ],
   "source": [
    "animal"
   ]
  },
  {
   "cell_type": "code",
   "execution_count": 26,
   "metadata": {},
   "outputs": [],
   "source": [
    "animal.append('kpmg')"
   ]
  },
  {
   "cell_type": "code",
   "execution_count": 27,
   "metadata": {},
   "outputs": [
    {
     "data": {
      "text/plain": [
       "[['chimpanzees', 'gorillas'], '3', 'zebra', 'lion', 'bear', 4, 'kpmg']"
      ]
     },
     "execution_count": 27,
     "metadata": {},
     "output_type": "execute_result"
    }
   ],
   "source": [
    "animal"
   ]
  },
  {
   "cell_type": "code",
   "execution_count": null,
   "metadata": {},
   "outputs": [],
   "source": []
  },
  {
   "cell_type": "code",
   "execution_count": null,
   "metadata": {},
   "outputs": [],
   "source": []
  },
  {
   "cell_type": "code",
   "execution_count": null,
   "metadata": {},
   "outputs": [],
   "source": []
  },
  {
   "cell_type": "code",
   "execution_count": 45,
   "metadata": {},
   "outputs": [
    {
     "data": {
      "text/plain": [
       "dict_items([('gaurav', [1, 2, 3, 4])])"
      ]
     },
     "execution_count": 45,
     "metadata": {},
     "output_type": "execute_result"
    }
   ],
   "source": [
    "my_dict = {'gaurav': [1,2,3,4]}\n",
    "my_dict.items()"
   ]
  },
  {
   "cell_type": "code",
   "execution_count": 46,
   "metadata": {},
   "outputs": [
    {
     "data": {
      "text/plain": [
       "dict"
      ]
     },
     "execution_count": 46,
     "metadata": {},
     "output_type": "execute_result"
    }
   ],
   "source": [
    "type(my_dict)"
   ]
  },
  {
   "cell_type": "code",
   "execution_count": 47,
   "metadata": {},
   "outputs": [
    {
     "data": {
      "text/plain": [
       "<function dict.keys>"
      ]
     },
     "execution_count": 47,
     "metadata": {},
     "output_type": "execute_result"
    }
   ],
   "source": [
    "my_dict.keys()"
   ]
  },
  {
   "cell_type": "code",
   "execution_count": null,
   "metadata": {},
   "outputs": [],
   "source": [
    "key(my_dict)"
   ]
  },
  {
   "cell_type": "code",
   "execution_count": 48,
   "metadata": {},
   "outputs": [
    {
     "data": {
      "text/plain": [
       "1"
      ]
     },
     "execution_count": 48,
     "metadata": {},
     "output_type": "execute_result"
    }
   ],
   "source": [
    "len(my_dict)"
   ]
  },
  {
   "cell_type": "code",
   "execution_count": null,
   "metadata": {},
   "outputs": [],
   "source": []
  },
  {
   "cell_type": "code",
   "execution_count": 60,
   "metadata": {},
   "outputs": [],
   "source": [
    "class Fruit(object):\n",
    "    \"\"\"initialization\"\"\"\n",
    "    def __init__(self, name, color, flavor, poisonous):\n",
    "        self.name = name\n",
    "        self.color = color\n",
    "        self.flavor = flavor\n",
    "        self.poisonous = poisonous\n",
    "        \n",
    "    def description(self):\n",
    "        print('I am a %s %s with taste %s' %(self.color, self.name, self.flavor))\n",
    "        \n",
    "    def is_edible(self):\n",
    "        if not self.poisonous:\n",
    "              print(\"Yep! I'm edible.\")\n",
    "        else:\n",
    "              print(\"Don't eat me! I am super poisonous.\")"
   ]
  },
  {
   "cell_type": "code",
   "execution_count": null,
   "metadata": {},
   "outputs": [],
   "source": []
  },
  {
   "cell_type": "code",
   "execution_count": 61,
   "metadata": {},
   "outputs": [],
   "source": [
    "lemon = Fruit('lemon', 'yello', 'sour', False)"
   ]
  },
  {
   "cell_type": "code",
   "execution_count": 62,
   "metadata": {},
   "outputs": [
    {
     "data": {
      "text/plain": [
       "'sour'"
      ]
     },
     "execution_count": 62,
     "metadata": {},
     "output_type": "execute_result"
    }
   ],
   "source": [
    "lemon.flavor"
   ]
  },
  {
   "cell_type": "code",
   "execution_count": 63,
   "metadata": {},
   "outputs": [
    {
     "name": "stdout",
     "output_type": "stream",
     "text": [
      "I am a yello lemon with taste sour\n"
     ]
    }
   ],
   "source": [
    "lemon.description()"
   ]
  },
  {
   "cell_type": "code",
   "execution_count": 64,
   "metadata": {},
   "outputs": [
    {
     "name": "stdout",
     "output_type": "stream",
     "text": [
      "Yep! I'm edible.\n"
     ]
    }
   ],
   "source": [
    "lemon.is_edible()"
   ]
  },
  {
   "cell_type": "code",
   "execution_count": null,
   "metadata": {},
   "outputs": [],
   "source": []
  },
  {
   "cell_type": "code",
   "execution_count": null,
   "metadata": {},
   "outputs": [],
   "source": [
    "class Fruit(object):\n",
    "  \"\"\"A class that makes various tasty fruits.\"\"\"\n",
    "  def __init__(self, name, color, flavor, poisonous):\n",
    "    self.name = name\n",
    "    self.color = color\n",
    "    self.flavor = flavor\n",
    "    self.poisonous = poisonous\n",
    "\n",
    "  def description(self):\n",
    "    print(\"I'm a %s %s and I taste %s.\" % (self.color, self.name, self.flavor))\n",
    "\n",
    "  def is_edible(self):\n",
    "    if not self.poisonous:\n",
    "      print(\"Yep! I'm edible.\")\n",
    "    else:\n",
    "      print(\"Don't eat me! I am super poisonous.\")\n",
    "\n",
    "lemon = Fruit(\"lemon\", \"yellow\", \"sour\", False)\n",
    "\n",
    "lemon.description()\n",
    "lemon.is_edible()\n",
    "\n",
    "print(lemon.name)\n",
    "print(lemon.color)"
   ]
  },
  {
   "cell_type": "code",
   "execution_count": null,
   "metadata": {},
   "outputs": [],
   "source": []
  },
  {
   "cell_type": "markdown",
   "metadata": {},
   "source": [
    "### List"
   ]
  },
  {
   "cell_type": "code",
   "execution_count": null,
   "metadata": {},
   "outputs": [],
   "source": []
  },
  {
   "cell_type": "code",
   "execution_count": 1,
   "metadata": {},
   "outputs": [
    {
     "name": "stdout",
     "output_type": "stream",
     "text": [
      "bear\n",
      "5\n",
      "['bear', 'lion', 'panda', 'zebra', ['chimpanzees', 'gorillas', 'orangutans', 'gibbons']]\n"
     ]
    }
   ],
   "source": [
    "### Key point - indices start from 0 and not 1.\n",
    "biggerZoo = ['bear', 'lion', 'panda', 'zebra', ['chimpanzees', 'gorillas', 'orangutans', 'gibbons']]\n",
    "# Select the first list element\n",
    "oneZooAnimal = biggerZoo[0]\n",
    "\n",
    "# Print `oneZooAnimal`\n",
    "print(oneZooAnimal)\n",
    "print(len(biggerZoo))\n",
    "print(biggerZoo)"
   ]
  },
  {
   "cell_type": "markdown",
   "metadata": {},
   "source": [
    "### How To Get The Last Element Of A List In Your List"
   ]
  },
  {
   "cell_type": "code",
   "execution_count": 2,
   "metadata": {},
   "outputs": [
    {
     "name": "stdout",
     "output_type": "stream",
     "text": [
      "['chimpanzees', 'gorillas', 'orangutans', 'gibbons']\n",
      "zebra\n"
     ]
    }
   ],
   "source": [
    "### Key point - How To Get The Last Element Of A List In Your List\n",
    "# Pass -1 to the index operator on `biggerZoo`\n",
    "monkeys = biggerZoo[-1]\n",
    "print(monkeys)\n",
    "\n",
    "# Pass -2 to the index operator on `biggerZoo`\n",
    "zebra = biggerZoo[-2]\n",
    "print(zebra)\n"
   ]
  },
  {
   "cell_type": "markdown",
   "metadata": {},
   "source": [
    "### What Does The Index Out Of Range Error Mean?\n",
    "As you can see, you might get an “Index Out Of Range” error in cases where you pass an integer value to the \n",
    "index operator that is bigger or way smaller than your list! It means that you are assigning a value or \n",
    "referring to an index that does not exist (yet)."
   ]
  },
  {
   "cell_type": "code",
   "execution_count": null,
   "metadata": {},
   "outputs": [],
   "source": []
  },
  {
   "cell_type": "code",
   "execution_count": 6,
   "metadata": {},
   "outputs": [
    {
     "ename": "IndexError",
     "evalue": "list index out of range",
     "output_type": "error",
     "traceback": [
      "\u001b[1;31m---------------------------------------------------------------------------\u001b[0m",
      "\u001b[1;31mIndexError\u001b[0m                                Traceback (most recent call last)",
      "\u001b[1;32m<ipython-input-6-a28adfb8c94b>\u001b[0m in \u001b[0;36m<module>\u001b[1;34m()\u001b[0m\n\u001b[0;32m      1\u001b[0m \u001b[1;31m# Run this code to trigger an \"Index Out Of Range\" Error\u001b[0m\u001b[1;33m\u001b[0m\u001b[1;33m\u001b[0m\u001b[0m\n\u001b[1;32m----> 2\u001b[1;33m \u001b[0mbiggerZoo\u001b[0m\u001b[1;33m[\u001b[0m\u001b[1;36m6\u001b[0m\u001b[1;33m]\u001b[0m\u001b[1;33m\u001b[0m\u001b[0m\n\u001b[0m",
      "\u001b[1;31mIndexError\u001b[0m: list index out of range"
     ]
    }
   ],
   "source": [
    "# Run this code to trigger an \"Index Out Of Range\" Error\n",
    "biggerZoo[6]"
   ]
  },
  {
   "cell_type": "markdown",
   "metadata": {},
   "source": [
    "### The Slice Notation In Lists\n",
    " items start through the end (but the end is not included!)\n",
    " \n",
    " a[start:end]\n",
    "\n",
    " items start through the rest of the array\n",
    " \n",
    " a[start:]    \n",
    "\n",
    " items from the beginning through the end (but the end is not included!)\n",
    " \n",
    " a[:end]\n",
    "\n",
    " start through not past end, by step\n",
    " \n",
    " a[start:end:step]"
   ]
  },
  {
   "cell_type": "code",
   "execution_count": 3,
   "metadata": {},
   "outputs": [
    {
     "name": "stdout",
     "output_type": "stream",
     "text": [
      "['panda', ['chimpanzees', 'gorillas', 'orangutans', 'gibbons']]\n",
      "['lion', ['chimpanzees', 'gorillas', 'orangutans', 'gibbons']]\n"
     ]
    }
   ],
   "source": [
    "# Print to see how the step value influences your result\n",
    "print(biggerZoo[2::2])\n",
    "print(biggerZoo[1::3])"
   ]
  },
  {
   "cell_type": "code",
   "execution_count": 4,
   "metadata": {},
   "outputs": [
    {
     "name": "stdout",
     "output_type": "stream",
     "text": [
      "a\n"
     ]
    }
   ],
   "source": [
    "### How To Randomly Select An Element In A List\n",
    "# Import `choice` from the `random` library\n",
    "from random import choice\n",
    "\n",
    "# Construct your `list` variable with a list of the first 4 letters of the alphabet\n",
    "list = ['a','b', 'c', 'd']\n",
    "\n",
    "# Print your random 'list' element\n",
    "print(choice(list))"
   ]
  },
  {
   "cell_type": "markdown",
   "metadata": {},
   "source": [
    "### How To Transform Python Lists Into Other Data Structures\n",
    "Sometimes, a list is not exactly what you need. In these cases, you might want to know how to transform your \n",
    "list to a more appropriate data structure. \n",
    "\n",
    "### How To Convert A List To A String\n",
    "You convert a list to a string by using ''.join(). This operation allows you to glue together all strings \n",
    "in your list together and return them as a string.\n",
    "\n",
    "Note -- that if your list only contains integers, you should convert the elements to strings before performing the join on them. This is illustrated in the second example in the interactive code block below."
   ]
  },
  {
   "cell_type": "code",
   "execution_count": 5,
   "metadata": {},
   "outputs": [
    {
     "name": "stdout",
     "output_type": "stream",
     "text": [
      "OneTwoThree\n",
      "123\n"
     ]
    }
   ],
   "source": [
    "# List of Strings to a String\n",
    "listOfStrings = ['One', 'Two', 'Three']\n",
    "strOfStrings = ''.join(listOfStrings)\n",
    "print(strOfStrings)\n",
    "\n",
    "# List Of Integers to a String\n",
    "listOfNumbers = [1, 2, 3]\n",
    "strOfNumbers = ''.join(str(n) for n in listOfNumbers)\n",
    "print(strOfNumbers)"
   ]
  },
  {
   "cell_type": "markdown",
   "metadata": {},
   "source": [
    "### How To Convert A List To A Tuple\n",
    "You can change a list to a tuple in Python by using the tuple() function. Pass your list to this function \n",
    "and you will get a tuple back!\n",
    "\n",
    "### How To Convert Your List To A Set In Python\n",
    "You can change a list into a set with the set() function. Just pass your list to it!"
   ]
  },
  {
   "cell_type": "code",
   "execution_count": 6,
   "metadata": {},
   "outputs": [
    {
     "name": "stdout",
     "output_type": "stream",
     "text": [
      "('One', 'Two', 'Three')\n",
      "{'Two', 'Three', 'One'}\n"
     ]
    }
   ],
   "source": [
    "# Pass your list to `tuple()`\n",
    "tup = tuple(listOfStrings)\n",
    "print(tup)\n",
    "\n",
    "# Transform your list into a set\n",
    "set_con = set(listOfStrings)\n",
    "print(set_con)"
   ]
  },
  {
   "cell_type": "markdown",
   "metadata": {},
   "source": [
    "### How To Convert Lists To A Dictionaries\n",
    "A dictionary works with keys and values, so the conversion from a list to a dictionary might be less \n",
    "straightforward. Let’s say you have a list like this:"
   ]
  },
  {
   "cell_type": "code",
   "execution_count": 7,
   "metadata": {},
   "outputs": [],
   "source": [
    "helloWorld = ['hello','world','1','2']"
   ]
  },
  {
   "cell_type": "markdown",
   "metadata": {},
   "source": [
    "You will need to make sure that ‘hello’ and ‘world’ and ‘1’ and ‘2’ are interpreted as key-value pairs. \n",
    "The way to do this is to select them with the slice notation and pass them to zip().\n",
    "\n",
    "You will pass this to the dict() function, which will interpret hello as a key and world as a value. \n",
    "Similarly, 1 will be interpreted as a key and 2 as a value."
   ]
  },
  {
   "cell_type": "code",
   "execution_count": 11,
   "metadata": {},
   "outputs": [
    {
     "ename": "TypeError",
     "evalue": "'list' object is not callable",
     "output_type": "error",
     "traceback": [
      "\u001b[1;31m---------------------------------------------------------------------------\u001b[0m",
      "\u001b[1;31mTypeError\u001b[0m                                 Traceback (most recent call last)",
      "\u001b[1;32m<ipython-input-11-4973c3961e48>\u001b[0m in \u001b[0;36m<module>\u001b[1;34m()\u001b[0m\n\u001b[0;32m      1\u001b[0m \u001b[0mhelloWorld\u001b[0m \u001b[1;33m=\u001b[0m \u001b[1;33m[\u001b[0m\u001b[1;34m'hello'\u001b[0m\u001b[1;33m,\u001b[0m\u001b[1;34m'world'\u001b[0m\u001b[1;33m,\u001b[0m\u001b[1;34m'1'\u001b[0m\u001b[1;33m,\u001b[0m\u001b[1;34m'2'\u001b[0m\u001b[1;33m]\u001b[0m\u001b[1;33m\u001b[0m\u001b[0m\n\u001b[1;32m----> 2\u001b[1;33m \u001b[0mlist\u001b[0m\u001b[1;33m(\u001b[0m\u001b[0mzip\u001b[0m\u001b[1;33m(\u001b[0m\u001b[0mhelloWorld\u001b[0m\u001b[1;33m)\u001b[0m\u001b[1;33m)\u001b[0m\u001b[1;33m\u001b[0m\u001b[0m\n\u001b[0m",
      "\u001b[1;31mTypeError\u001b[0m: 'list' object is not callable"
     ]
    }
   ],
   "source": [
    "helloWorld = ['hello','world','1','2']\n",
    "list(zip(helloWorld))"
   ]
  },
  {
   "cell_type": "code",
   "execution_count": 12,
   "metadata": {},
   "outputs": [
    {
     "name": "stdout",
     "output_type": "stream",
     "text": [
      "{'1': '2', 'hello': 'world'}\n"
     ]
    }
   ],
   "source": [
    "# Convert to a dictionary\n",
    "helloWorldDictionary = dict(zip(helloWorld[0::2], helloWorld[1::2]))\n",
    "\n",
    "# Print out the result\n",
    "print(helloWorldDictionary)"
   ]
  },
  {
   "cell_type": "code",
   "execution_count": 13,
   "metadata": {},
   "outputs": [
    {
     "name": "stdout",
     "output_type": "stream",
     "text": [
      "{1: 2, 3: 4}\n"
     ]
    }
   ],
   "source": [
    "a = [1, 2, 3, 4, 5]\n",
    "\n",
    "# Create a list iterator object\n",
    "i = iter(a)\n",
    "\n",
    "# Zip and create a dictionary\n",
    "print(dict(zip(i, i)))"
   ]
  },
  {
   "cell_type": "markdown",
   "metadata": {},
   "source": [
    "### How To Determine The Size Of Your List in Python\n",
    "You can pass your list to the len() function to get the length of your list back."
   ]
  },
  {
   "cell_type": "code",
   "execution_count": 14,
   "metadata": {},
   "outputs": [
    {
     "name": "stdout",
     "output_type": "stream",
     "text": [
      "3\n"
     ]
    }
   ],
   "source": [
    "## Pass `justAList` to `len()`\n",
    "print(len(listOfStrings))"
   ]
  },
  {
   "cell_type": "markdown",
   "metadata": {},
   "source": [
    "### What’s The Difference Between The Python append() and extend() Methods?\n",
    "extend()- This function is used to extend the list with the elements present in another list. \n",
    "This function takes another list as its argument.\n",
    "\n",
    "append()- Used for appending and adding elements to List.It is used to add elements to the last position \n",
    "of List."
   ]
  },
  {
   "cell_type": "code",
   "execution_count": 1,
   "metadata": {},
   "outputs": [
    {
     "name": "stdout",
     "output_type": "stream",
     "text": [
      "[1, 2, 3, [4, 5]]\n",
      "[1, 2, 3, 4, 5, 6, 4, 5]\n"
     ]
    }
   ],
   "source": [
    "# Append [4,5] to `shortList`\n",
    "shortList = [1, 2, 3]\n",
    "shortList.append([4, 5])\n",
    "\n",
    "# Use the print() method to show shortList\n",
    "print(shortList)\n",
    "\n",
    "# Extend `longerList` with [4,5]\n",
    "longerList = [1, 2, 3, 4, 5, 6]\n",
    "longerList.extend([4, 5])\n",
    "\n",
    "# Use the print() method to see longerList\n",
    "print(longerList)"
   ]
  },
  {
   "cell_type": "markdown",
   "metadata": {},
   "source": [
    "### How To Concatenate Lists in Python\n",
    "To concatenate lists, you use the + operator. It will give you a new list that is the concatenation of your \n",
    "two lists without modifying the original ones.\n",
    "\n",
    "With append() and extend(), you modify your original list, while with the + operator, you can make another \n",
    "list variable."
   ]
  },
  {
   "cell_type": "code",
   "execution_count": 2,
   "metadata": {},
   "outputs": [
    {
     "name": "stdout",
     "output_type": "stream",
     "text": [
      "[1, 2, 3, [4, 5], 4, 5]\n"
     ]
    }
   ],
   "source": [
    "# Concatenate `shortList` with `[4,5]`\n",
    "plusList = shortList + [4,5]\n",
    "\n",
    "#Use the `print()` method to see `plusList`\n",
    "print(plusList)"
   ]
  },
  {
   "cell_type": "code",
   "execution_count": null,
   "metadata": {},
   "outputs": [],
   "source": []
  },
  {
   "cell_type": "code",
   "execution_count": null,
   "metadata": {},
   "outputs": [],
   "source": [
    "### How To Sort a List in Python\n",
    "\n",
    "sort() :- This function sorts the list in increasing order.\n",
    "sorted() :- The sorted() function can be applied to any Iterable object, which means that it also accepts \n",
    "    strings, sets, dictionaries when they are passed to it!"
   ]
  },
  {
   "cell_type": "code",
   "execution_count": null,
   "metadata": {},
   "outputs": [],
   "source": []
  },
  {
   "cell_type": "code",
   "execution_count": null,
   "metadata": {},
   "outputs": [],
   "source": []
  },
  {
   "cell_type": "markdown",
   "metadata": {},
   "source": [
    "### How To Sort a List in Python"
   ]
  },
  {
   "cell_type": "code",
   "execution_count": 5,
   "metadata": {},
   "outputs": [
    {
     "name": "stdout",
     "output_type": "stream",
     "text": [
      "[87, 298, 397, 402, 503]\n",
      "[76, 3, 4, 5]\n"
     ]
    }
   ],
   "source": [
    "rooms = [397, 87, 298, 503, 402]\n",
    "orders = [76, 3, 4, 5]\n",
    "# Use `sort()` on the `rooms` list\n",
    "rooms.sort()\n",
    "\n",
    "# Print out `rooms` to see the result\n",
    "print(rooms)\n",
    "\n",
    "# Now use the `sorted()` function on the `orders` list\n",
    "sorted(orders)\n",
    "\n",
    "# Print out orders\n",
    "print(orders)"
   ]
  },
  {
   "cell_type": "code",
   "execution_count": null,
   "metadata": {},
   "outputs": [],
   "source": []
  },
  {
   "cell_type": "code",
   "execution_count": null,
   "metadata": {},
   "outputs": [],
   "source": [
    "### How To Clone Or Copy A List in Python\n",
    "There are a lot of ways of cloning or copying a list.\n",
    "1. You can slice your original list and store it into a new variable: newList = oldList[:]\n",
    "    2. You can use the built-in list() function: newList = list(oldList)\n",
    "        3. You can use the copy library:\n",
    "          -  With the copy() method: newList = copy.copy(oldList)\n",
    "            - If your list contains objects and you want to copy those as well, you can use copy.deepcopy(): \n",
    "                copy.deepcopy(oldList)\n",
    "            "
   ]
  },
  {
   "cell_type": "code",
   "execution_count": 6,
   "metadata": {},
   "outputs": [],
   "source": [
    "groceries =  ['apples', 'eggs', 'steak', 'spaghetti', ['fanta', 'sprite', 'cola']]\n",
    "\n",
    "# Copy the grocery list by slicing and store it in the `newGroceries` variable\n",
    "newGroceries = groceries[:]\n",
    "\n",
    "# Copy the grocery list with the `list()` function and store it in a `groceriesForFriends` variable\n",
    "groceriesForFriends = list(groceries)\n",
    "\n",
    "# Import the copy library as c\n",
    "import copy as c\n",
    "\n",
    "# Create a `groceriesForFamily` variable and assign the copied grocery list to it\n",
    "groceriesForFamily =  c.copy(groceries)\n",
    "\n",
    "# Use `deepcopy()` and assign the copied list to a `groceriesForKids` variable\n",
    "groceriesForKids= c.deepcopy(groceries)"
   ]
  },
  {
   "cell_type": "code",
   "execution_count": 7,
   "metadata": {},
   "outputs": [
    {
     "name": "stdout",
     "output_type": "stream",
     "text": [
      "['a', 'b', ['ab', 'd']]\n"
     ]
    }
   ],
   "source": [
    "# This is your list\n",
    "objectList = ['a','b',['ab','ba']]\n",
    "\n",
    "# Copy the `objectList`\n",
    "copiedList = objectList[:]\n",
    "\n",
    "# Change the first list element of `copiedList`\n",
    "copiedList[0] = 'c'\n",
    "\n",
    "# Go to the third element (the nested list) and change the second element\n",
    "copiedList[2][1] = 'd'\n",
    "\n",
    "# Print out the original list to see what happened to it\n",
    "print(objectList)"
   ]
  },
  {
   "cell_type": "code",
   "execution_count": null,
   "metadata": {},
   "outputs": [],
   "source": [
    "### How Does List Comprehension Work In Python?\n",
    "\n",
    "We can create lists just like mathematical statements and in one line only. \n",
    "The syntax of list comprehension is easier to grasp.\n",
    "\n",
    "A list comprehension generally consist of these parts :\n",
    "   Output expression, \n",
    "   input sequence, \n",
    "   a variable representing member of input sequence and\n",
    "   an optional predicate part. \n",
    "\n",
    "For example :\n",
    "\n",
    "lst  =  [x ** 2  for x in range (1, 11)   if  x % 2 == 1] \n",
    "\n",
    "here, x ** 2 is output expression, \n",
    "      range (1, 11)  is input sequence, \n",
    "      x is variable and   \n",
    "      if x % 2 == 1 is predicate part."
   ]
  },
  {
   "cell_type": "code",
   "execution_count": 8,
   "metadata": {},
   "outputs": [
    {
     "name": "stdout",
     "output_type": "stream",
     "text": [
      "[1, 9, 25, 49, 81]\n",
      "[1, 9, 25, 49, 81]\n"
     ]
    }
   ],
   "source": [
    "\n",
    "# Python program to demonstrate list comprehension in Python  \n",
    "  \n",
    "# below list contains square of all odd numbers from \n",
    "# range 1 to 10 \n",
    "odd_square = [x ** 2 for x in range(1, 11) if x % 2 == 1] \n",
    "print (odd_square) \n",
    "  \n",
    "# for understanding, above generation is same as, \n",
    "odd_square = [] \n",
    "for x in range(1, 11): \n",
    "    if x % 2 == 1: \n",
    "        odd_square.append(x**2) \n",
    "print (odd_square)"
   ]
  },
  {
   "cell_type": "code",
   "execution_count": null,
   "metadata": {},
   "outputs": [],
   "source": []
  },
  {
   "cell_type": "code",
   "execution_count": 9,
   "metadata": {},
   "outputs": [
    {
     "data": {
      "text/plain": [
       "[0, 1, 4, 9, 16, 25, 36, 49, 64, 81]"
      ]
     },
     "execution_count": 9,
     "metadata": {},
     "output_type": "execute_result"
    }
   ],
   "source": [
    "[x**2 for x in range(10)]"
   ]
  },
  {
   "cell_type": "code",
   "execution_count": null,
   "metadata": {},
   "outputs": [],
   "source": []
  },
  {
   "cell_type": "code",
   "execution_count": 10,
   "metadata": {},
   "outputs": [
    {
     "data": {
      "text/plain": [
       "[0, 4, 16, 36, 64]"
      ]
     },
     "execution_count": 10,
     "metadata": {},
     "output_type": "execute_result"
    }
   ],
   "source": [
    "[x**2 for x in range(10) if x%2==0]"
   ]
  },
  {
   "cell_type": "code",
   "execution_count": null,
   "metadata": {},
   "outputs": [],
   "source": []
  },
  {
   "cell_type": "code",
   "execution_count": 11,
   "metadata": {},
   "outputs": [
    {
     "data": {
      "text/plain": [
       "[1, 4, 9, 16, 25, 36, 49, 64, 81, 100]"
      ]
     },
     "execution_count": 11,
     "metadata": {},
     "output_type": "execute_result"
    }
   ],
   "source": [
    "myList = [1, 2, 3, 4, 5, 6, 7, 8, 9, 10]\n",
    "[(lambda x: x*x)(x) for x in myList]"
   ]
  },
  {
   "cell_type": "code",
   "execution_count": null,
   "metadata": {},
   "outputs": [],
   "source": []
  },
  {
   "cell_type": "code",
   "execution_count": 12,
   "metadata": {},
   "outputs": [
    {
     "data": {
      "text/plain": [
       "[0, 1, 4, 9, 16, 25, 36, 49, 64, 81]"
      ]
     },
     "execution_count": 12,
     "metadata": {},
     "output_type": "execute_result"
    }
   ],
   "source": [
    "f = lambda x: x*x\n",
    "[f(x) for x in range(10)]\n"
   ]
  },
  {
   "cell_type": "code",
   "execution_count": null,
   "metadata": {},
   "outputs": [],
   "source": []
  },
  {
   "cell_type": "code",
   "execution_count": null,
   "metadata": {},
   "outputs": [],
   "source": [
    "### How To Count Occurrences Of A List Item In Python\n",
    " count() :- This function counts the number of occurrences of elements in list."
   ]
  },
  {
   "cell_type": "code",
   "execution_count": 13,
   "metadata": {},
   "outputs": [
    {
     "name": "stdout",
     "output_type": "stream",
     "text": [
      "2\n"
     ]
    },
    {
     "data": {
      "text/plain": [
       "3"
      ]
     },
     "execution_count": 13,
     "metadata": {},
     "output_type": "execute_result"
    }
   ],
   "source": [
    "# Count the occurrences of the number 4\n",
    "print([1, 2, 9, 4, 5, 4, 1].count(4))\n",
    "\n",
    "# Count the occurrences of the letter \"a\"\n",
    "list = [\"d\", \"a\", \"t\", \"a\", \"c\", \"a\", \"m\", \"p\"]\n",
    "list.count(\"a\")"
   ]
  },
  {
   "cell_type": "markdown",
   "metadata": {},
   "source": [
    "### Counting all items in a list with count()\n",
    "To count the occurrences of items in a list, you can also use list comprehension in combination with the \n",
    "count() method:"
   ]
  },
  {
   "cell_type": "code",
   "execution_count": 14,
   "metadata": {},
   "outputs": [
    {
     "data": {
      "text/plain": [
       "[['b', 2], ['a', 1]]"
      ]
     },
     "execution_count": 14,
     "metadata": {},
     "output_type": "execute_result"
    }
   ],
   "source": [
    "list= [\"a\",\"b\",\"b\"]\n",
    "[[x,list.count(x)] for x in set(list)]"
   ]
  },
  {
   "cell_type": "markdown",
   "metadata": {},
   "source": [
    "### Counting all list items with Counter()\n",
    "Alternatively, there’s the faster Counter() method from the collections library:\n",
    "Note that Counter() is generally faster when you want to count all list items."
   ]
  },
  {
   "cell_type": "code",
   "execution_count": 17,
   "metadata": {},
   "outputs": [
    {
     "data": {
      "text/plain": [
       "Counter({'a': 1, 'b': 2})"
      ]
     },
     "execution_count": 17,
     "metadata": {},
     "output_type": "execute_result"
    }
   ],
   "source": [
    "# Import `Counter` from the `collections` library\n",
    "from collections import Counter\n",
    "\n",
    "# This is your list\n",
    "list = [\"a\",\"b\",\"b\"]\n",
    "\n",
    "# Pass `list` to `Counter()`\n",
    "Counter(list)"
   ]
  },
  {
   "cell_type": "code",
   "execution_count": null,
   "metadata": {},
   "outputs": [],
   "source": []
  },
  {
   "cell_type": "code",
   "execution_count": null,
   "metadata": {},
   "outputs": [],
   "source": [
    "How To Split A Python List Into Evenly Sized Chunks"
   ]
  },
  {
   "cell_type": "code",
   "execution_count": null,
   "metadata": {},
   "outputs": [],
   "source": []
  },
  {
   "cell_type": "code",
   "execution_count": null,
   "metadata": {},
   "outputs": [],
   "source": [
    "# Your list `x`\n",
    "x = [1,2,3,4,5,6,7,8,9]\n",
    "\n",
    "# Split `x` up in chunks of 3\n",
    "y = zip(*[iter(x)]*3)\n",
    "\n",
    "# Use `list()` to print the result of `zip()`\n",
    "list(y)"
   ]
  },
  {
   "cell_type": "code",
   "execution_count": null,
   "metadata": {},
   "outputs": [],
   "source": []
  },
  {
   "cell_type": "code",
   "execution_count": null,
   "metadata": {},
   "outputs": [],
   "source": [
    "The code above works as follows:\n",
    "\n",
    "iter() is an iterator over a sequence.\n",
    "[iter(x)] * 3 produces a list with three listiterator objects: each list iterator is an iterator of x.\n",
    "the * that is passed to the zip() function before anything else unpacks the sequence into arguments so that you’re passing the same iterator three times to the zip() function, and it pulls an item from the iterator each time.\n"
   ]
  },
  {
   "cell_type": "code",
   "execution_count": null,
   "metadata": {},
   "outputs": [],
   "source": []
  },
  {
   "cell_type": "code",
   "execution_count": null,
   "metadata": {},
   "outputs": [],
   "source": [
    "Let me guide you step by step:\n",
    "\n",
    "You will have three list iterator objects, which you can think of as:\n",
    "[1,2,3,4,5,6,7,8,9], [1,2,3,4,5,6,7,8,9], [1,2,3,4,5,6,7,8,9]\n",
    "\n",
    "\n",
    "The first time, zip() will take one element of the list sequentially, which leaves you with:\n",
    "[1][2][3]\n",
    "\n",
    "\n",
    "Note that the iterator objects will keep track for you which element is next in the iteration!\n",
    "\n",
    "The second time, elements will be added to the three lists you just created, and you will end up with:\n",
    "[1, 4], [2, 5], [3, 6]\n",
    "\n",
    "\n",
    "The last time, you follow the same procedure, and you end up with:\n",
    "[1, 4, 7], [2, 5, 8], [3, 6, 9]\n",
    "\n",
    "\n",
    "Zipping these three lists together will leave you with:\n",
    "[1, 2, 3], [4, 5, 6], [7, 8, 9]"
   ]
  },
  {
   "cell_type": "code",
   "execution_count": null,
   "metadata": {},
   "outputs": [],
   "source": []
  },
  {
   "cell_type": "code",
   "execution_count": null,
   "metadata": {},
   "outputs": [],
   "source": [
    "# Method to split up your lists into chunks\n",
    "def chunks(list, chunkSize):\n",
    "    \"\"\"Yield successive chunkSize-sized chunks from list.\"\"\"\n",
    "    for i in range(0, len(list), chunkSize):\n",
    "        yield list[i:i + chunkSize]\n",
    "\n",
    "# Use your `chunks` function to print out chunks of the same size\n",
    "import pprint\n",
    "pprint.pprint(list(chunks(range(10, 75), 10)))"
   ]
  },
  {
   "cell_type": "code",
   "execution_count": null,
   "metadata": {},
   "outputs": [],
   "source": []
  },
  {
   "cell_type": "code",
   "execution_count": null,
   "metadata": {},
   "outputs": [],
   "source": [
    "# Set up your list and chunk size\n",
    "list = range(0, 50)\n",
    "chunk = 5\n",
    "\n",
    "# Split up your list into chunks\n",
    "[list[i:i + chunk] for i in range(0, len(list), chunk)]"
   ]
  },
  {
   "cell_type": "code",
   "execution_count": null,
   "metadata": {},
   "outputs": [],
   "source": [
    "How To Loop over A List in Python"
   ]
  },
  {
   "cell_type": "code",
   "execution_count": null,
   "metadata": {},
   "outputs": [],
   "source": [
    "# This is your list\n",
    "mylist = [[1,2,3],[4,5,6,7],[8,9,10]]\n",
    "\n",
    "# Loop over your list and print all elements that are of size 3\n",
    "for x in mylist:\n",
    "      if len(x)==3:\n",
    "        print(x)"
   ]
  },
  {
   "cell_type": "code",
   "execution_count": null,
   "metadata": {},
   "outputs": [],
   "source": []
  },
  {
   "cell_type": "code",
   "execution_count": null,
   "metadata": {},
   "outputs": [],
   "source": [
    "# This is your list\n",
    "myList = [3,4,5,6]\n",
    "\n",
    "# Loop over `myList` and print tuples of all indices and values \n",
    "for i, val in enumerate(myList):\n",
    "     print(i, val)"
   ]
  },
  {
   "cell_type": "code",
   "execution_count": null,
   "metadata": {},
   "outputs": [],
   "source": []
  },
  {
   "cell_type": "code",
   "execution_count": null,
   "metadata": {},
   "outputs": [],
   "source": [
    "[x for x in myList if len(x)==3]"
   ]
  },
  {
   "cell_type": "code",
   "execution_count": null,
   "metadata": {},
   "outputs": [],
   "source": []
  },
  {
   "cell_type": "code",
   "execution_count": 65,
   "metadata": {},
   "outputs": [],
   "source": [
    "my_list = [3, 4, 5, 6]"
   ]
  },
  {
   "cell_type": "code",
   "execution_count": null,
   "metadata": {},
   "outputs": [],
   "source": []
  },
  {
   "cell_type": "code",
   "execution_count": 66,
   "metadata": {},
   "outputs": [
    {
     "name": "stdout",
     "output_type": "stream",
     "text": [
      "3\n",
      "4\n",
      "5\n",
      "6\n"
     ]
    }
   ],
   "source": [
    "for item in my_list:\n",
    "    print(item)\n",
    "    "
   ]
  },
  {
   "cell_type": "code",
   "execution_count": 67,
   "metadata": {},
   "outputs": [
    {
     "name": "stdout",
     "output_type": "stream",
     "text": [
      "4\n",
      "6\n"
     ]
    }
   ],
   "source": [
    "for item in my_list:\n",
    "    if item % 2 == 0:\n",
    "        print(item)"
   ]
  },
  {
   "cell_type": "code",
   "execution_count": 69,
   "metadata": {},
   "outputs": [
    {
     "data": {
      "text/plain": [
       "[4, 6]"
      ]
     },
     "execution_count": 69,
     "metadata": {},
     "output_type": "execute_result"
    }
   ],
   "source": [
    "[x for x in my_list if x % 2 ==0]"
   ]
  },
  {
   "cell_type": "code",
   "execution_count": null,
   "metadata": {},
   "outputs": [],
   "source": []
  },
  {
   "cell_type": "code",
   "execution_count": null,
   "metadata": {},
   "outputs": [],
   "source": []
  },
  {
   "cell_type": "code",
   "execution_count": null,
   "metadata": {},
   "outputs": [],
   "source": []
  },
  {
   "cell_type": "code",
   "execution_count": null,
   "metadata": {},
   "outputs": [],
   "source": []
  },
  {
   "cell_type": "code",
   "execution_count": null,
   "metadata": {},
   "outputs": [],
   "source": []
  },
  {
   "cell_type": "code",
   "execution_count": null,
   "metadata": {},
   "outputs": [],
   "source": [
    "How To Create Flat Lists Out Of Lists"
   ]
  },
  {
   "cell_type": "code",
   "execution_count": null,
   "metadata": {},
   "outputs": [],
   "source": [
    "# Your initial list of lists\n",
    "list = [[1,2],[3,4],[5,6]]\n",
    "\n",
    "# Flatten out your original list of lists with `sum()`\n",
    "sum(list, [])"
   ]
  },
  {
   "cell_type": "code",
   "execution_count": null,
   "metadata": {},
   "outputs": [],
   "source": []
  },
  {
   "cell_type": "code",
   "execution_count": null,
   "metadata": {},
   "outputs": [],
   "source": [
    "# You can reduce the lists of lists of lists like this\n",
    "from functools import reduce\n",
    "print(reduce(lambda x,y: x+y,listOfLists))\n",
    "\n",
    "# Or you can use list comprehension\n",
    "print([item for sublist in listOfLists for item in sublist])"
   ]
  },
  {
   "cell_type": "code",
   "execution_count": null,
   "metadata": {},
   "outputs": [],
   "source": []
  },
  {
   "cell_type": "code",
   "execution_count": null,
   "metadata": {},
   "outputs": [],
   "source": [
    "You either use the reduce() method, to which you pass a lambda function. Now, the reduce() method is there to ensure that your iterable is reduced to a single value. How it is reduced, you determine with the function that you pass to it. In this case, you say that you want to sum the elements cumulatively: what happens, is that [1,2] is added to [3,4] and this result is added to [5,6]. Represented visually, this gives:"
   ]
  },
  {
   "cell_type": "code",
   "execution_count": null,
   "metadata": {},
   "outputs": [],
   "source": [
    "([1,2]+[3,4])+[5,6]"
   ]
  },
  {
   "cell_type": "code",
   "execution_count": null,
   "metadata": {},
   "outputs": [],
   "source": []
  },
  {
   "cell_type": "code",
   "execution_count": null,
   "metadata": {},
   "outputs": [],
   "source": [
    "The second option to make flat lists out of lists of lists is to use list comprehension. This nested for loop statement doesn’t make it easy on you. What it comes down to is that you first take sublist in list or [1, 2], [3, 4], [5, 6] and then you want to consider item for item in sublist, printing out each item from the sublist."
   ]
  },
  {
   "cell_type": "code",
   "execution_count": null,
   "metadata": {},
   "outputs": [],
   "source": []
  },
  {
   "cell_type": "code",
   "execution_count": null,
   "metadata": {},
   "outputs": [],
   "source": [
    "Another way of seeing this nested list comprehension is to rewrite it as a regular for loop:"
   ]
  },
  {
   "cell_type": "code",
   "execution_count": null,
   "metadata": {},
   "outputs": [],
   "source": []
  },
  {
   "cell_type": "code",
   "execution_count": null,
   "metadata": {},
   "outputs": [],
   "source": [
    "list1 = []\n",
    "\n",
    "for sublist in list:\n",
    "  for item in sublist:\n",
    "    list1.append(item)"
   ]
  },
  {
   "cell_type": "code",
   "execution_count": null,
   "metadata": {},
   "outputs": [],
   "source": [
    "How To Get An Intersection Of Two Python Lists"
   ]
  },
  {
   "cell_type": "code",
   "execution_count": null,
   "metadata": {},
   "outputs": [],
   "source": [
    "List Intersection Using List Comprehension"
   ]
  },
  {
   "cell_type": "code",
   "execution_count": null,
   "metadata": {},
   "outputs": [],
   "source": []
  },
  {
   "cell_type": "code",
   "execution_count": null,
   "metadata": {},
   "outputs": [],
   "source": [
    "n the piece of code above, the filter() part takes each sublist’s item and checks to see if it is in the source list list1. The list comprehension is executed for each sublist in list2.\n",
    "\n",
    "Note that, since filter() returns an iterable instead of a list, you need to wrap all you put into your filter() with list(). Try removing the list() to test this out for yourself!"
   ]
  },
  {
   "cell_type": "code",
   "execution_count": null,
   "metadata": {},
   "outputs": [],
   "source": [
    "# Intersect both lists with list comprehension\n",
    "intersection = [list(filter(lambda x: x in list1, sublist)) for sublist in list2]\n",
    "\n",
    "# Print the result of the intersection\n",
    "print(intersection)"
   ]
  },
  {
   "cell_type": "code",
   "execution_count": null,
   "metadata": {},
   "outputs": [],
   "source": [
    "For better readability, you could also work with nested list comprehensions:"
   ]
  },
  {
   "cell_type": "code",
   "execution_count": null,
   "metadata": {},
   "outputs": [],
   "source": [
    "print(list1)\n",
    "print(list2)\n",
    "\n",
    "# An intersection of both lists, stored in `intersection`\n",
    "intersection = [[x for x in sublist if x in list1] for sublist in list2]\n",
    "\n",
    "# Print the result of the intersection\n",
    "print(intersection)"
   ]
  },
  {
   "cell_type": "code",
   "execution_count": null,
   "metadata": {},
   "outputs": [],
   "source": [
    "[1, 6, 7, 10, 13, 28, 32, 41, 58, 63]\n",
    "[[13, 17, 18, 21, 32], [7, 11, 13, 14, 28], [1, 5, 6, 8, 15, 16]]\n",
    "[[13, 32], [7, 13, 28], [1, 6]]\n"
   ]
  },
  {
   "cell_type": "code",
   "execution_count": null,
   "metadata": {},
   "outputs": [],
   "source": []
  },
  {
   "cell_type": "code",
   "execution_count": 89,
   "metadata": {},
   "outputs": [],
   "source": [
    "class ShoppingCart(object):\n",
    "    def __init__(self, customer_name, contact_no, email):\n",
    "        self.customer_name = customer_name\n",
    "        self.contact_no = contact_no\n",
    "        self.email = email\n",
    "        self.item_in_cart = {}\n",
    "        \n",
    "        \n",
    "    def add_item(self, product, price):\n",
    "        if not product in self.item_in_cart:\n",
    "            self.item_in_cart[product] = price\n",
    "            print(product + 'added')\n",
    "        else:\n",
    "            print(product + 'is already in the cart')\n",
    "            \n",
    "    def to_remove(self, product):\n",
    "        if product in self.item_in_cart:\n",
    "            del self.item_in_cart[product]\n",
    "        else:\n",
    "            print(\"the product is not in cart\")"
   ]
  },
  {
   "cell_type": "code",
   "execution_count": null,
   "metadata": {},
   "outputs": [],
   "source": []
  },
  {
   "cell_type": "code",
   "execution_count": 90,
   "metadata": {},
   "outputs": [],
   "source": [
    "custmor1 = ShoppingCart('Gaurav', '98874 67433', 'gaurav@gmail.com')"
   ]
  },
  {
   "cell_type": "code",
   "execution_count": 91,
   "metadata": {},
   "outputs": [
    {
     "name": "stdout",
     "output_type": "stream",
     "text": [
      "TVadded\n"
     ]
    }
   ],
   "source": [
    "custmor1.add_item('TV', 39000)"
   ]
  },
  {
   "cell_type": "code",
   "execution_count": 92,
   "metadata": {},
   "outputs": [
    {
     "data": {
      "text/plain": [
       "{'TV': 39000}"
      ]
     },
     "execution_count": 92,
     "metadata": {},
     "output_type": "execute_result"
    }
   ],
   "source": [
    "custmor1.item_in_cart"
   ]
  },
  {
   "cell_type": "code",
   "execution_count": 93,
   "metadata": {},
   "outputs": [],
   "source": [
    "custmor1.to_remove('TV')"
   ]
  },
  {
   "cell_type": "code",
   "execution_count": 94,
   "metadata": {},
   "outputs": [
    {
     "data": {
      "text/plain": [
       "{}"
      ]
     },
     "execution_count": 94,
     "metadata": {},
     "output_type": "execute_result"
    }
   ],
   "source": [
    "custmor1.item_in_cart"
   ]
  },
  {
   "cell_type": "code",
   "execution_count": null,
   "metadata": {},
   "outputs": [],
   "source": []
  },
  {
   "cell_type": "code",
   "execution_count": 73,
   "metadata": {},
   "outputs": [
    {
     "data": {
      "text/plain": [
       "__main__.ShoppingCart"
      ]
     },
     "execution_count": 73,
     "metadata": {},
     "output_type": "execute_result"
    }
   ],
   "source": [
    "type(custmor1)"
   ]
  },
  {
   "cell_type": "code",
   "execution_count": 74,
   "metadata": {},
   "outputs": [
    {
     "data": {
      "text/plain": [
       "'98874 67433'"
      ]
     },
     "execution_count": 74,
     "metadata": {},
     "output_type": "execute_result"
    }
   ],
   "source": [
    "custmor1.contact_no"
   ]
  },
  {
   "cell_type": "code",
   "execution_count": null,
   "metadata": {},
   "outputs": [],
   "source": []
  },
  {
   "cell_type": "code",
   "execution_count": null,
   "metadata": {},
   "outputs": [],
   "source": []
  },
  {
   "cell_type": "code",
   "execution_count": 75,
   "metadata": {},
   "outputs": [
    {
     "ename": "SyntaxError",
     "evalue": "Missing parentheses in call to 'print'. Did you mean print(product + \" added.\")? (<ipython-input-75-aa0891ef96f9>, line 12)",
     "output_type": "error",
     "traceback": [
      "\u001b[1;36m  File \u001b[1;32m\"<ipython-input-75-aa0891ef96f9>\"\u001b[1;36m, line \u001b[1;32m12\u001b[0m\n\u001b[1;33m    print product + \" added.\"\u001b[0m\n\u001b[1;37m                ^\u001b[0m\n\u001b[1;31mSyntaxError\u001b[0m\u001b[1;31m:\u001b[0m Missing parentheses in call to 'print'. Did you mean print(product + \" added.\")?\n"
     ]
    }
   ],
   "source": [
    "class ShoppingCart(object):\n",
    "  \"\"\"Creates shopping cart objects\n",
    "  for users of our fine website.\"\"\"\n",
    "  \n",
    "  def __init__(self, customer_name):\n",
    "    self.customer_name = customer_name\n",
    "    self.items_in_cart = {}\n",
    "  def add_item(self, product, price):\n",
    "    \"\"\"Add product to the cart.\"\"\"\n",
    "    if not product in self.items_in_cart:\n",
    "      self.items_in_cart[product] = price\n",
    "      print product + \" added.\"\n",
    "    else:\n",
    "      print product + \" is already in the cart.\"\n",
    "\n",
    "  def remove_item(self, product):\n",
    "    \"\"\"Remove product from the cart.\"\"\"\n",
    "    if product in self.items_in_cart:\n",
    "      del self.items_in_cart[product]\n",
    "      print product + \" removed.\"\n",
    "    else:\n",
    "      print product + \" is not in the cart.\"\n",
    " \n",
    " \n",
    "my_cart = ShoppingCart(\"Gaurav\")\n",
    "my_cart.add_item('biscuit', 10)"
   ]
  },
  {
   "cell_type": "code",
   "execution_count": null,
   "metadata": {},
   "outputs": [],
   "source": []
  },
  {
   "cell_type": "code",
   "execution_count": null,
   "metadata": {},
   "outputs": [],
   "source": []
  },
  {
   "cell_type": "code",
   "execution_count": null,
   "metadata": {},
   "outputs": [],
   "source": []
  },
  {
   "cell_type": "code",
   "execution_count": null,
   "metadata": {},
   "outputs": [],
   "source": []
  },
  {
   "cell_type": "code",
   "execution_count": null,
   "metadata": {},
   "outputs": [],
   "source": []
  },
  {
   "cell_type": "code",
   "execution_count": null,
   "metadata": {},
   "outputs": [],
   "source": []
  },
  {
   "cell_type": "code",
   "execution_count": null,
   "metadata": {},
   "outputs": [],
   "source": []
  },
  {
   "cell_type": "code",
   "execution_count": null,
   "metadata": {},
   "outputs": [],
   "source": []
  },
  {
   "cell_type": "code",
   "execution_count": null,
   "metadata": {},
   "outputs": [],
   "source": []
  },
  {
   "cell_type": "code",
   "execution_count": null,
   "metadata": {},
   "outputs": [],
   "source": []
  },
  {
   "cell_type": "code",
   "execution_count": null,
   "metadata": {},
   "outputs": [],
   "source": []
  },
  {
   "cell_type": "code",
   "execution_count": null,
   "metadata": {},
   "outputs": [],
   "source": [
    "Intersecting Lists With set()"
   ]
  },
  {
   "cell_type": "code",
   "execution_count": null,
   "metadata": {},
   "outputs": [],
   "source": [
    "print(list1)\n",
    "print(list2)\n",
    "\n",
    "# Make use of the list and set data structures\n",
    "print(list(set(list1) & set(list2)))\n",
    "\n",
    "# Use `intersection()`\n",
    "print(list(set(list1).intersection(list2)))"
   ]
  },
  {
   "cell_type": "code",
   "execution_count": null,
   "metadata": {},
   "outputs": [],
   "source": [
    "[1, 6, 7, 10, 13, 28, 32, 41, 58, 63]\n",
    "[13, 17, 18, 21, 32, 7, 11, 13, 14, 28, 1, 5, 6, 8, 15, 16]\n",
    "[32, 1, 6, 7, 13, 28]\n",
    "[32, 1, 6, 7, 13, 28]\n"
   ]
  },
  {
   "cell_type": "code",
   "execution_count": null,
   "metadata": {},
   "outputs": [],
   "source": [
    "In the first example, you convert both lists to sets, intersect them and then output them again as a list. The order in the outputted list will be arbitrary. You can also convert the larger of the two lists into a set, after which you can get the intersection of that set with any iterable using intersection().\n",
    "\n",
    "Note that for these two approaches to work, your list should not contain other lists. That is why list2 looks different. Print it out just to make sure!"
   ]
  },
  {
   "cell_type": "code",
   "execution_count": null,
   "metadata": {},
   "outputs": [],
   "source": []
  },
  {
   "cell_type": "code",
   "execution_count": null,
   "metadata": {},
   "outputs": [],
   "source": [
    "How To Remove Duplicates From A List in Python"
   ]
  },
  {
   "cell_type": "code",
   "execution_count": null,
   "metadata": {},
   "outputs": [],
   "source": []
  },
  {
   "cell_type": "code",
   "execution_count": null,
   "metadata": {},
   "outputs": [],
   "source": [
    "# Your list with duplicate values\n",
    "duplicates = [1, 2, 3, 1, 2, 5, 6, 7, 8]\n",
    "\n",
    "# Print the unique `duplicates` list\n",
    "print(list(set(duplicates)))\n",
    "\n",
    "# A list with small numbers \n",
    "smallNumbers = [1, 2, 3]\n",
    "\n",
    "# Print the unique `duplicates` list without the small numbers\n",
    "list(set(duplicates) - set(smallNumbers))"
   ]
  },
  {
   "cell_type": "code",
   "execution_count": null,
   "metadata": {},
   "outputs": [],
   "source": []
  },
  {
   "cell_type": "code",
   "execution_count": null,
   "metadata": {},
   "outputs": [],
   "source": [
    "Why NumPy Instead Of Python Lists?"
   ]
  },
  {
   "cell_type": "code",
   "execution_count": null,
   "metadata": {},
   "outputs": [],
   "source": []
  },
  {
   "cell_type": "code",
   "execution_count": null,
   "metadata": {},
   "outputs": [],
   "source": [
    "In general, there seem to be four reasons why Python programmers prefer NumPy arrays over lists in Python:\n",
    "\n",
    "because NumPy arrays are more compact than lists.\n",
    "because access in reading and writing items is faster with NumPy.\n",
    "because NumPy can be more convenient to work with, thanks to the fact that you get a lot of vector and matrix operations for free\n",
    "because NumPy can be more efficient to work with because they are implemented more efficiently."
   ]
  },
  {
   "cell_type": "code",
   "execution_count": null,
   "metadata": {},
   "outputs": [],
   "source": []
  },
  {
   "cell_type": "code",
   "execution_count": null,
   "metadata": {},
   "outputs": [],
   "source": [
    "How To Create Empty NumPy Arrays"
   ]
  },
  {
   "cell_type": "code",
   "execution_count": null,
   "metadata": {},
   "outputs": [],
   "source": [
    "import numpy\n",
    "numpy.array([])"
   ]
  },
  {
   "cell_type": "code",
   "execution_count": null,
   "metadata": {},
   "outputs": [],
   "source": []
  },
  {
   "cell_type": "code",
   "execution_count": null,
   "metadata": {},
   "outputs": [],
   "source": [
    "# Make a NumPy array of four rows and two columns and filled with 0\n",
    "numpy.zeros(shape=(4,2))\n",
    "\n",
    "# Make a NumPy array of 1 values of three columns\n",
    "numpy.ones(3)\n",
    "\n",
    "# Make an empty NumPy array\n",
    "numpy.empty(shape=(0,0))"
   ]
  },
  {
   "cell_type": "code",
   "execution_count": null,
   "metadata": {},
   "outputs": [],
   "source": []
  },
  {
   "cell_type": "code",
   "execution_count": null,
   "metadata": {},
   "outputs": [],
   "source": [
    "How To Do Math With Lists in Python"
   ]
  },
  {
   "cell_type": "code",
   "execution_count": null,
   "metadata": {},
   "outputs": [],
   "source": [
    "How To Calculate the Weighted Average of a List"
   ]
  },
  {
   "cell_type": "code",
   "execution_count": null,
   "metadata": {},
   "outputs": [],
   "source": []
  },
  {
   "cell_type": "code",
   "execution_count": null,
   "metadata": {},
   "outputs": [],
   "source": [
    "cost = [0.424, 0.4221, 0.4185, 0.4132, 0.413]\n",
    "cases = [10, 20, 30, 40, 50]"
   ]
  },
  {
   "cell_type": "code",
   "execution_count": null,
   "metadata": {},
   "outputs": [],
   "source": [
    "for c in range(len(cost)):\n",
    "   cost[c] = (cost[c] * cases[c] / sum(cases))\n",
    "cost = sum(cost)\n",
    "print(cost)"
   ]
  },
  {
   "cell_type": "code",
   "execution_count": null,
   "metadata": {},
   "outputs": [],
   "source": [
    "sum(cost[c] * cases[c] / sum(cases) for c in range(len(cost)))"
   ]
  },
  {
   "cell_type": "code",
   "execution_count": null,
   "metadata": {},
   "outputs": [],
   "source": [
    "sum(cost[c] * cases[c] for c in range(len(cost))) / sum(cases)"
   ]
  },
  {
   "cell_type": "code",
   "execution_count": null,
   "metadata": {},
   "outputs": [],
   "source": []
  },
  {
   "cell_type": "code",
   "execution_count": null,
   "metadata": {},
   "outputs": [],
   "source": [
    "print(list(zip(cost, cases)))\n",
    "\n",
    "# Calculate the weighted average\n",
    "print(sum([x * y for x, y in zip(cost, cases)]) / sum(cases))"
   ]
  }
 ],
 "metadata": {
  "kernelspec": {
   "display_name": "Python 3 (ipykernel)",
   "language": "python",
   "name": "python3"
  },
  "language_info": {
   "codemirror_mode": {
    "name": "ipython",
    "version": 3
   },
   "file_extension": ".py",
   "mimetype": "text/x-python",
   "name": "python",
   "nbconvert_exporter": "python",
   "pygments_lexer": "ipython3",
   "version": "3.9.7"
  }
 },
 "nbformat": 4,
 "nbformat_minor": 2
}
