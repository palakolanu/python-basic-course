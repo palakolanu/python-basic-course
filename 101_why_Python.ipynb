{
 "cells": [
  {
   "cell_type": "markdown",
   "metadata": {
    "collapsed": true
   },
   "source": [
    "## Why Python?"
   ]
  },
  {
   "cell_type": "markdown",
   "metadata": {},
   "source": [
    "![title](img/header.jpg)"
   ]
  },
  {
   "cell_type": "markdown",
   "metadata": {},
   "source": [
    "# Programming languages used by data analysts\n",
    "* Python\n",
    "* R\n",
    "* Scala\n",
    "* Matlab\n",
    "* Julia"
   ]
  },
  {
   "cell_type": "markdown",
   "metadata": {},
   "source": [
    "# Python\n",
    "- Python was created by Guido Rossum in 1989.\n",
    "- Python is interpreted, object-oriented, high level programming language. \n",
    "- Support Object-oriented programming, procedure oriented programming.\n",
    "- Platform portability, extensibility."
   ]
  },
  {
   "cell_type": "markdown",
   "metadata": {
    "collapsed": true
   },
   "source": [
    "![title](img/py.png)"
   ]
  },
  {
   "cell_type": "markdown",
   "metadata": {},
   "source": [
    "# Python used in industries."
   ]
  },
  {
   "cell_type": "markdown",
   "metadata": {},
   "source": [
    "![title](img/py_uses.png)"
   ]
  },
  {
   "cell_type": "markdown",
   "metadata": {},
   "source": [
    "# Operators supported in Python"
   ]
  },
  {
   "cell_type": "markdown",
   "metadata": {},
   "source": [
    "![title](img/py_operators.png)"
   ]
  },
  {
   "cell_type": "markdown",
   "metadata": {},
   "source": [
    "# Python as a calculator\n",
    "- Python is perfectly suited to do basic calculations. \n",
    "- Apart from addition, subtraction, multiplication and division, there is also support for more advanced operations such as\n",
    "### Exponentiation: **. \n",
    "    This operator raises the number to its left to the power of the number to its right. For example 4**2 will give 16.\n",
    "### Modulo: %. \n",
    "    This operator returns the remainder of the division of the number to the left by the number on its right. For example 18 % 7 equals 4."
   ]
  },
  {
   "cell_type": "markdown",
   "metadata": {},
   "source": [
    "### Matrix Algebra\n",
    "- scaler\n",
    "- vector\n",
    "- matrix\n",
    "- data frame\n",
    "- panal data"
   ]
  },
  {
   "cell_type": "markdown",
   "metadata": {},
   "source": [
    "### Data\n",
    "- nominal\n",
    "- ordinal\n",
    "- numeric\n",
    "- binary\n"
   ]
  },
  {
   "cell_type": "markdown",
   "metadata": {},
   "source": [
    "### python\n",
    "    - data type int, float, double, \n",
    "    - data container \n",
    "        - time series, sequence, vector\n",
    "        - [] list\n",
    "        - () tuple\n",
    "        - {} dictionary, key and value pair\n",
    "        - matrix \n",
    "        - dataframe\n",
    "### Data type\n",
    "    * Theory\n",
    "        * numerical\n",
    "            - integer, real, \n",
    "        * categorical\n",
    "            - nominal \n",
    "            - ordinal \n",
    "        "
   ]
  },
  {
   "cell_type": "markdown",
   "metadata": {},
   "source": [
    "# Machine Learning"
   ]
  },
  {
   "cell_type": "markdown",
   "metadata": {},
   "source": [
    "![title](img/machine_learning_map.jpeg)"
   ]
  }
 ],
 "metadata": {
  "kernelspec": {
   "display_name": "Python 3 (ipykernel)",
   "language": "python",
   "name": "python3"
  },
  "language_info": {
   "codemirror_mode": {
    "name": "ipython",
    "version": 3
   },
   "file_extension": ".py",
   "mimetype": "text/x-python",
   "name": "python",
   "nbconvert_exporter": "python",
   "pygments_lexer": "ipython3",
   "version": "3.9.7"
  }
 },
 "nbformat": 4,
 "nbformat_minor": 2
}
